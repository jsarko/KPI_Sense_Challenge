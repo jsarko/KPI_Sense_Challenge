{
 "cells": [
  {
   "cell_type": "code",
   "execution_count": 2,
   "metadata": {},
   "outputs": [],
   "source": [
    "import sys\n",
    "import xlrd\n",
    "from datetime import datetime"
   ]
  },
  {
   "cell_type": "code",
   "execution_count": 3,
   "metadata": {},
   "outputs": [
    {
     "data": {
      "text/plain": [
       "<xlrd.sheet.Sheet at 0x27ac7903c18>"
      ]
     },
     "execution_count": 3,
     "metadata": {},
     "output_type": "execute_result"
    }
   ],
   "source": [
    "wb = xlrd.open_workbook(\"docs/Demo_Assessment_Model_08.18.20.xlsx\")\n",
    "sheet = wb.sheet_by_name(\"KPI Dashboard\")\n",
    "sheet"
   ]
  },
  {
   "cell_type": "markdown",
   "metadata": {},
   "source": [
    "#### To get the categories, search column D for a valid date and return the index. That returned index can then be used to get top level categories in col C."
   ]
  },
  {
   "cell_type": "code",
   "execution_count": 4,
   "metadata": {},
   "outputs": [
    {
     "data": {
      "text/plain": [
       "[4, 22, 30, 38, 57, 66, 74, 82, 102, 110, 118]"
      ]
     },
     "execution_count": 4,
     "metadata": {},
     "output_type": "execute_result"
    }
   ],
   "source": [
    "ref = {}\n",
    "for col in range(0, 3):\n",
    "    temp = {}\n",
    "    for index, val in enumerate(sheet.col_values(col + 1)):\n",
    "        if val != \"\":\n",
    "            temp[index] = val\n",
    "    ref[col] = temp\n",
    "    \n",
    "\n",
    "dates_rows = []\n",
    "for i, v in enumerate(sheet.col_values(3)):\n",
    "    if isDate(v):\n",
    "        dates_rows.append(i)\n",
    "dates_rows"
   ]
  },
  {
   "cell_type": "code",
   "execution_count": 5,
   "metadata": {},
   "outputs": [
    {
     "data": {
      "text/plain": [
       "['Summary Financial Metrics',\n",
       " 'Customer Metrics',\n",
       " 'New Bookings ',\n",
       " 'MRR/ARR by Month',\n",
       " 'Customer Unit Economics',\n",
       " 'Customer Metrics',\n",
       " 'New Bookings ',\n",
       " 'MRR/ARR by Month',\n",
       " 'Customer Metrics',\n",
       " 'New Bookings ',\n",
       " 'MRR/ARR by Month']"
      ]
     },
     "execution_count": 5,
     "metadata": {},
     "output_type": "execute_result"
    }
   ],
   "source": [
    "cat_values = sheet.col_values(2)\n",
    "categories = [cat_values[r] for r in dates_rows]\n",
    "categories"
   ]
  },
  {
   "cell_type": "code",
   "execution_count": 25,
   "metadata": {},
   "outputs": [],
   "source": [
    "# category_col = { for index, val in enumerate(sheet.col_values(2)) if val != \"\"}\n",
    "category_col = {}\n",
    "\n",
    "\n",
    "for index, value in enumerate(sheet.col_values(2)):\n",
    "    if isCategory(value):\n",
    "        category_col[value] = {\n",
    "            \"index\": index,\n",
    "            \"sub\": [\"all\"]\n",
    "            \"start_date\": sheet.cell_value(index, 3)\n",
    "        }\n",
    "        col_b_value = hasSub(value) \n",
    "        if col_b_value:\n",
    "            category_col[value][\"sub\"].append(col_b_value)"
   ]
  },
  {
   "cell_type": "code",
   "execution_count": 26,
   "metadata": {},
   "outputs": [
    {
     "name": "stdout",
     "output_type": "stream",
     "text": [
      "{'Customer Metrics': {'index': 102, 'sub': ['all', 'OPM']},\n",
      " 'Customer Unit Economics': {'index': 57, 'sub': ['all']},\n",
      " 'MRR/ARR by Month': {'index': 118, 'sub': ['all', 'OPM']},\n",
      " 'New Bookings ': {'index': 110, 'sub': ['all', 'OPM']},\n",
      " 'Summary Financial Metrics': {'index': 4, 'sub': ['all']}}\n"
     ]
    }
   ],
   "source": [
    "from pprint import pprint\n",
    "\n",
    "pprint(category_col)\n"
   ]
  },
  {
   "cell_type": "code",
   "execution_count": 29,
   "metadata": {},
   "outputs": [
    {
     "data": {
      "text/plain": [
       "39"
      ]
     },
     "execution_count": 29,
     "metadata": {},
     "output_type": "execute_result"
    }
   ],
   "source": [
    "sheet.ncols"
   ]
  },
  {
   "cell_type": "code",
   "execution_count": null,
   "metadata": {},
   "outputs": [],
   "source": []
  }
 ],
 "metadata": {
  "kernelspec": {
   "display_name": "Python 3",
   "language": "python",
   "name": "python3"
  },
  "language_info": {
   "codemirror_mode": {
    "name": "ipython",
    "version": 3
   },
   "file_extension": ".py",
   "mimetype": "text/x-python",
   "name": "python",
   "nbconvert_exporter": "python",
   "pygments_lexer": "ipython3",
   "version": "3.6.4"
  }
 },
 "nbformat": 4,
 "nbformat_minor": 4
}
